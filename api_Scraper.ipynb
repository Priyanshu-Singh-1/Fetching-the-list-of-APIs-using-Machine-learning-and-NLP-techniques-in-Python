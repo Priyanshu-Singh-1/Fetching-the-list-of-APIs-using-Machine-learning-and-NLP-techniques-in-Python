{
 "cells": [
  {
   "cell_type": "code",
   "execution_count": 1,
   "metadata": {
    "colab": {
     "base_uri": "https://localhost:8080/"
    },
    "id": "T1NHk-NrWFPh",
    "outputId": "0a5673d1-4caa-4dd1-e1b9-ce2f3bf92925"
   },
   "outputs": [
    {
     "name": "stdout",
     "output_type": "stream",
     "text": [
      "Requirement already satisfied: beautifulsoup4 in d:\\abhir\\6th semester\\machine learning\\anaconda\\lib\\site-packages (4.10.0)\n",
      "Requirement already satisfied: soupsieve>1.2 in d:\\abhir\\6th semester\\machine learning\\anaconda\\lib\\site-packages (from beautifulsoup4) (2.2.1)\n",
      "Note: you may need to restart the kernel to use updated packages.\n"
     ]
    }
   ],
   "source": [
    "pip install beautifulsoup4"
   ]
  },
  {
   "cell_type": "code",
   "execution_count": 2,
   "metadata": {
    "colab": {
     "base_uri": "https://localhost:8080/"
    },
    "id": "nbcoxN2fWYN9",
    "outputId": "7010c54d-9094-44e6-8c23-b497f7f4e9a8"
   },
   "outputs": [
    {
     "name": "stdout",
     "output_type": "stream",
     "text": [
      "Collecting autoscraper\n",
      "  Downloading autoscraper-1.1.14-py3-none-any.whl (10 kB)\n",
      "Requirement already satisfied: lxml in d:\\abhir\\6th semester\\machine learning\\anaconda\\lib\\site-packages (from autoscraper) (4.6.3)\n",
      "Requirement already satisfied: requests in d:\\abhir\\6th semester\\machine learning\\anaconda\\lib\\site-packages (from autoscraper) (2.26.0)\n",
      "Collecting bs4\n",
      "  Downloading bs4-0.0.1.tar.gz (1.1 kB)\n",
      "Requirement already satisfied: beautifulsoup4 in d:\\abhir\\6th semester\\machine learning\\anaconda\\lib\\site-packages (from bs4->autoscraper) (4.10.0)\n",
      "Requirement already satisfied: soupsieve>1.2 in d:\\abhir\\6th semester\\machine learning\\anaconda\\lib\\site-packages (from beautifulsoup4->bs4->autoscraper) (2.2.1)\n",
      "Requirement already satisfied: urllib3<1.27,>=1.21.1 in d:\\abhir\\6th semester\\machine learning\\anaconda\\lib\\site-packages (from requests->autoscraper) (1.26.7)\n",
      "Requirement already satisfied: idna<4,>=2.5 in d:\\abhir\\6th semester\\machine learning\\anaconda\\lib\\site-packages (from requests->autoscraper) (3.2)\n",
      "Requirement already satisfied: certifi>=2017.4.17 in d:\\abhir\\6th semester\\machine learning\\anaconda\\lib\\site-packages (from requests->autoscraper) (2021.10.8)\n",
      "Requirement already satisfied: charset-normalizer~=2.0.0 in d:\\abhir\\6th semester\\machine learning\\anaconda\\lib\\site-packages (from requests->autoscraper) (2.0.4)\n",
      "Building wheels for collected packages: bs4\n",
      "  Building wheel for bs4 (setup.py): started\n",
      "  Building wheel for bs4 (setup.py): finished with status 'done'\n",
      "  Created wheel for bs4: filename=bs4-0.0.1-py3-none-any.whl size=1271 sha256=de6748863f305ee280fb4709a202e5de2c526f68b32cd616cac7649f00a35bca\n",
      "  Stored in directory: c:\\users\\dell\\appdata\\local\\pip\\cache\\wheels\\73\\2b\\cb\\099980278a0c9a3e57ff1a89875ec07bfa0b6fcbebb9a8cad3\n",
      "Successfully built bs4\n",
      "Installing collected packages: bs4, autoscraper\n",
      "Successfully installed autoscraper-1.1.14 bs4-0.0.1\n"
     ]
    }
   ],
   "source": [
    "!pip install autoscraper\n"
   ]
  },
  {
   "cell_type": "code",
   "execution_count": 54,
   "metadata": {
    "id": "KR68vNjjcQTt"
   },
   "outputs": [],
   "source": [
    "from autoscraper import AutoScraper\n",
    "import numpy as np \n",
    "import pandas as pd \n",
    "from sklearn.feature_extraction.text import TfidfVectorizer\n",
    "\n",
    "from sklearn.metrics.pairwise import cosine_similarity"
   ]
  },
  {
   "cell_type": "code",
   "execution_count": 12,
   "metadata": {
    "id": "gcJUs56hcTf1"
   },
   "outputs": [],
   "source": [
    "api_url=\"https://rapidapi.com/search/Paid%20api\"\n",
    "\n",
    "wanted_list=[\"https://rapidapi.com/cdn/images?url=https://rapidapi-prod-apis.s3.amazonaws.com/b6e657b9-2c11-4798-8465-b4c8d7e0de13.png\",\"Lecto Translation\",\"Fast Neural Translation. Text/HTML/JSON. Protected keys. Multiple source texts and target languages in a single request. Free Translation API trial with paid plans as low as $0.3 per million characters. 90+ supported languages. For personalized integration support or private plans with higher quotas, contact [support@lecto.ai](mailto:%73%75%70%70%6f%72%74%40%6c%65%63%74%6f%2e%61%69) or via Telegram @lectoai . Also available via our website with attractive Translation API pricing at https://da...\"]"
   ]
  },
  {
   "cell_type": "code",
   "execution_count": 13,
   "metadata": {
    "colab": {
     "base_uri": "https://localhost:8080/"
    },
    "id": "VRA7XWc3dIxG",
    "outputId": "6a8e74c1-19fb-4c2b-8b73-dc922966a244"
   },
   "outputs": [
    {
     "name": "stdout",
     "output_type": "stream",
     "text": [
      "['https://rapidapi.com/cdn/images?url=https://rapidapi-prod-apis.s3.amazonaws.com/2f2478f3-366e-4cfc-af2a-160fcd359ce0.png', 'https://rapidapi.com/cdn/images?url=https://rapidapi-prod-apis.s3.amazonaws.com/b6e657b9-2c11-4798-8465-b4c8d7e0de13.png', 'https://rapidapi.com/cdn/images?url=https://rapidapi-prod-apis.s3.amazonaws.com/c3736925-9c98-4fdc-857e-07c11146afb7.png', 'https://rapidapi.com/cdn/images?url=https://rapidapi-prod-apis.s3.amazonaws.com/c1fb79d1-84ab-43d7-9a0a-93bae7d54122.png', 'https://rapidapi.com/cdn/images?url=https://rapidapi-prod-apis.s3.amazonaws.com/17fe17d3-868d-4fdc-9ae7-1523fa2cb1a6.png', 'https://rapidapi.com/cdn/images?url=https://s3.amazonaws.com/mashape-production-logos/apis/5b900012e4b01c1322c68237_medium', 'https://rapidapi.com/cdn/images?url=https://rapidapi-prod-apis.s3.amazonaws.com/c2a75616-6d6c-4a66-826d-0fbbc2762b92.png', 'https://rapidapi.com/cdn/images?url=https://rapidapi-prod-apis.s3.amazonaws.com/bb/e20cc2091d4963bb075d1dd957d65d/cbd156018162314e428642bcf4d0fd8a.png', 'https://rapidapi.com/cdn/images?url=https://rapidapi-prod-apis.s3.amazonaws.com/58ee5bd0-e893-4539-a764-8fd432e29e0e.png', 'https://rapidapi.com/cdn/images?url=https://rapidapi-prod-apis.s3.amazonaws.com/ee76191e-e579-4564-89ee-0a1bbf1c0671.png', 'https://rapidapi.com/cdn/images?url=https://rapidapi-prod-apis.s3.amazonaws.com/53afacea-db08-418d-8ce1-28606c8bd5c4.png', 'https://rapidapi.com/cdn/images?url=https://rapidapi-prod-apis.s3.amazonaws.com/bf1840cc-eff8-41c8-94c1-e787ecaaa19a.jpg', 'https://rapidapi.com/cdn/images?url=https://rapidapi-prod-apis.s3.amazonaws.com/a871a4ec-83a7-4b61-a853-60b18cca171b.jpg', 'https://rapidapi.com/cdn/images?url=https://rapidapi-prod-apis.s3.amazonaws.com/c9605c1d-2a8e-447f-b402-223b021be0ce.png', 'https://rapidapi.com/cdn/images?url=https://rapidapi-prod-apis.s3.amazonaws.com/86efcf31-d9ed-4e3c-80f4-2449eb032c72.png', 'https://rapidapi.com/cdn/images?url=https://rapidapi-prod-apis.s3.amazonaws.com/1e723a10-7569-4615-b598-5207a758ed67.png', 'https://rapidapi.com/cdn/images?url=https://rapidapi-prod-apis.s3.amazonaws.com/4c6fcdeb-22c1-4b40-8cb9-d60c1056d527.png', 'https://rapidapi.com/cdn/images?url=https://rapidapi-prod-apis.s3.amazonaws.com/68b19516-331d-4db3-93c5-34f69b2b5538.png', 'https://rapidapi.com/cdn/images?url=https://rapidapi-prod-apis.s3.amazonaws.com/00bc3506-a014-48a0-be30-6665c7461fbc.png', 'https://rapidapi.com/cdn/images?url=https://rapidapi-prod-apis.s3.amazonaws.com/355a5650-06d2-44b5-ac7f-836360bde033.png', 'https://rapidapi.com/cdn/images?url=https://rapidapi-prod-apis.s3.amazonaws.com/37/c91865a38a44f793c265af618340a0/731f34b730f0ced443598bb6446d12e3.png', 'https://rapidapi.com/cdn/images?url=https://rapidapi-prod-apis.s3.amazonaws.com/976c663f-f16b-40ec-8611-e4a990a1d247.png', 'https://rapidapi.com/cdn/images?url=https://rapidapi-prod-apis.s3.amazonaws.com/6c60e51e-d25f-4fa4-93e9-017f781b3bfd.png', 'https://rapidapi.com/cdn/images?url=https://rapidapi-prod-apis.s3.amazonaws.com/16632105-d3f2-4882-bfbe-1907b3b4a736.png', 'StreamlineWatch - Streaming Guide', 'Lecto Translation', 'Coinranking', 'ProxyPage', 'Google Search 2', 'IP Geolocation by ipgeolocation.io', 'CurrencyAPI.net', 'UGPROXY', 'SERPhouse', 'Domain SEO Analysis', 'Outsida', 'Fake Identity Generator', 'DataForSEO Search Volume', 'SERP', 'Cash4Life', 'Lucky4Life', 'Semantic Quotes', 'SerpWow', 'Fast PDF Conversion', 'GenerativeAi Image detection', 'IP Address Tracker - PRO', 'Device Limiter', 'VALUE SERP', 'Scale SERP', \"StreamlineWatch's streaming guide APIs for Movies and Shows\", 'Fast Neural Translation. Text/HTML/JSON. Protected keys. Multiple source texts and target languages in a single request. Free Translation API trial with paid plans as low as $0.3 per million characters. 90+ supported languages. For personalized integration support or private plans with higher quotas, contact [support@lecto.ai](mailto:%73%75%70%70%6f%72%74%40%6c%65%63%74%6f%2e%61%69) or via Telegram @lectoai . Also available via our website with attractive Translation API pricing at https://da...', 'A simple API for Cryptocurrency Prices - 28k+ users - Real-Time & Historical - Crypto Market Data - Coins - Exchanges - Free & Paid', 'Get high quality proxies for free, proxy list with your filters', 'Serpdog(https://serpdog.io) is a Google Search API that allows you to access Google Search Results in real time. It solves the problem of proxies and captchas for a smooth scraping journey. Serpdog supports results in both HTML and JSON format.\\nGet your free trial by registering at https://api.serpdog.io\\nIf you want to buy our plan, I recommend you to please visit https://serpdog.io/pricing for more information.', 'IP Geolocation API allows developers to get geolocation information for a given IP address. Data points returned by this GeoIP API include city, state, province, country, continent, latitude, longitude, region, timezone, current time, organization, ISP, local currency, and country flags. This IP Location API can be used for content personalization, geotargeting, geofencing, ad targeting, digital rights management, form auto-completion, etc. With the free plan, you can make 15,000 IP lookup API calls per month. Paid plans are starting from $15 per month.', 'Real-time currency conversion on 152 currencies and cryptos', \"UGPROXY Service | Proxy List - Residential Proxy - Rotating IP's Proxy Service\", 'Google, Bing and Yahoo realtime SERP API', \"Bishopi's advanced and real-time proprietary SEO metrics for domain names investors, keywords research and SEO professionals. - More on Bishopi.io\", 'Outsida provides a convenient API that show events happening in and around your city. You can now query events, venues, query for particular events or venues by name or id.', 'The most complete and cheap Fake Identity Generation API', 'DataForSEO Search Volume API provides keyword data based on Google AdWords.', 'Search Engine data at scale. Uses city-level geo-targeting via residential proxies for targeted queries. Extract data such as organic results, paid results, related questions, top stories, people also ask, pagination, etc. in JSON format', 'Do you want to get paid for the rest of your life? This is your game! Introducing the latest winning numbers and the best statistics!', 'Do you want to get paid for the rest of your life? This is your game! Introducing the lastest winning numbers and the best statistics!', 'Semantic search for quotes. Wondering which celebrities have said something similar? Look no more, this API gives you the power to search for quotes semantically from over 1M+ quotes. The Artificial Intelligence (NLP) engine behind the scene seeks to understand the meaning of your query rather than simply matching keywords. We allows user to flexibly filter the results by the length of the quote, and/or by a large variety of tags.', 'The SERP API with advanced parsing to reliably capture all search results across all major search engines', 'Fastest Word DOCX to PDF conversion tool (+30 more formats)! Try for free now!', 'Our API identifies artificial or generative AI images, providing accurate detection to combat fake and misleading visuals. Using advanced algorithms, it analyzes and identifies unique patterns to offer an added layer of protection and verification for social media platforms, news organizations, and content creators.', 'This is a paid service that will get you the ip geographical location information of your user. Just simply call the API for a pacific ip address and you will get the following information about your user: country, state, city, zip code, longitude, latitude, and timezone', 'The service keeps track of devices used by the users of your app (mobile or web) and allows you to limit the usage by each user to a small number of devices (default 5). This limitation can help reduce credential sharing on paid services.', 'The most complete, low-cost Google SERP API to power your SEO tools and services', 'The comprehensive SERP API to go deep and capture all the search results Google displays']\n"
     ]
    }
   ],
   "source": [
    "scraper=AutoScraper()\n",
    "result=scraper.build(api_url,wanted_list)\n",
    "print(result)"
   ]
  },
  {
   "cell_type": "code",
   "execution_count": 14,
   "metadata": {
    "id": "I2t6eODndp6Z"
   },
   "outputs": [
    {
     "name": "stdout",
     "output_type": "stream",
     "text": [
      "{'rule_z34y': ['https://rapidapi.com/cdn/images?url=https://rapidapi-prod-apis.s3.amazonaws.com/2f2478f3-366e-4cfc-af2a-160fcd359ce0.png', 'https://rapidapi.com/cdn/images?url=https://rapidapi-prod-apis.s3.amazonaws.com/b6e657b9-2c11-4798-8465-b4c8d7e0de13.png', 'https://rapidapi.com/cdn/images?url=https://rapidapi-prod-apis.s3.amazonaws.com/c3736925-9c98-4fdc-857e-07c11146afb7.png', 'https://rapidapi.com/cdn/images?url=https://rapidapi-prod-apis.s3.amazonaws.com/c1fb79d1-84ab-43d7-9a0a-93bae7d54122.png', 'https://rapidapi.com/cdn/images?url=https://rapidapi-prod-apis.s3.amazonaws.com/17fe17d3-868d-4fdc-9ae7-1523fa2cb1a6.png', 'https://rapidapi.com/cdn/images?url=https://s3.amazonaws.com/mashape-production-logos/apis/5b900012e4b01c1322c68237_medium', 'https://rapidapi.com/cdn/images?url=https://rapidapi-prod-apis.s3.amazonaws.com/c2a75616-6d6c-4a66-826d-0fbbc2762b92.png', 'https://rapidapi.com/cdn/images?url=https://rapidapi-prod-apis.s3.amazonaws.com/bb/e20cc2091d4963bb075d1dd957d65d/cbd156018162314e428642bcf4d0fd8a.png', 'https://rapidapi.com/cdn/images?url=https://rapidapi-prod-apis.s3.amazonaws.com/58ee5bd0-e893-4539-a764-8fd432e29e0e.png', 'https://rapidapi.com/cdn/images?url=https://rapidapi-prod-apis.s3.amazonaws.com/ee76191e-e579-4564-89ee-0a1bbf1c0671.png', 'https://rapidapi.com/cdn/images?url=https://rapidapi-prod-apis.s3.amazonaws.com/53afacea-db08-418d-8ce1-28606c8bd5c4.png', 'https://rapidapi.com/cdn/images?url=https://rapidapi-prod-apis.s3.amazonaws.com/bf1840cc-eff8-41c8-94c1-e787ecaaa19a.jpg', 'https://rapidapi.com/cdn/images?url=https://rapidapi-prod-apis.s3.amazonaws.com/a871a4ec-83a7-4b61-a853-60b18cca171b.jpg', 'https://rapidapi.com/cdn/images?url=https://rapidapi-prod-apis.s3.amazonaws.com/c9605c1d-2a8e-447f-b402-223b021be0ce.png', 'https://rapidapi.com/cdn/images?url=https://rapidapi-prod-apis.s3.amazonaws.com/86efcf31-d9ed-4e3c-80f4-2449eb032c72.png', 'https://rapidapi.com/cdn/images?url=https://rapidapi-prod-apis.s3.amazonaws.com/1e723a10-7569-4615-b598-5207a758ed67.png', 'https://rapidapi.com/cdn/images?url=https://rapidapi-prod-apis.s3.amazonaws.com/4c6fcdeb-22c1-4b40-8cb9-d60c1056d527.png', 'https://rapidapi.com/cdn/images?url=https://rapidapi-prod-apis.s3.amazonaws.com/68b19516-331d-4db3-93c5-34f69b2b5538.png', 'https://rapidapi.com/cdn/images?url=https://rapidapi-prod-apis.s3.amazonaws.com/00bc3506-a014-48a0-be30-6665c7461fbc.png', 'https://rapidapi.com/cdn/images?url=https://rapidapi-prod-apis.s3.amazonaws.com/355a5650-06d2-44b5-ac7f-836360bde033.png', 'https://rapidapi.com/cdn/images?url=https://rapidapi-prod-apis.s3.amazonaws.com/37/c91865a38a44f793c265af618340a0/731f34b730f0ced443598bb6446d12e3.png', 'https://rapidapi.com/cdn/images?url=https://rapidapi-prod-apis.s3.amazonaws.com/976c663f-f16b-40ec-8611-e4a990a1d247.png', 'https://rapidapi.com/cdn/images?url=https://rapidapi-prod-apis.s3.amazonaws.com/6c60e51e-d25f-4fa4-93e9-017f781b3bfd.png', 'https://rapidapi.com/cdn/images?url=https://rapidapi-prod-apis.s3.amazonaws.com/16632105-d3f2-4882-bfbe-1907b3b4a736.png'], 'rule_fses': ['StreamlineWatch - Streaming Guide', 'Lecto Translation', 'Coinranking', 'ProxyPage', 'Google Search 2', 'IP Geolocation by ipgeolocation.io', 'CurrencyAPI.net', 'UGPROXY', 'SERPhouse', 'Domain SEO Analysis', 'Outsida', 'Fake Identity Generator', 'DataForSEO Search Volume', 'SERP', 'Cash4Life', 'Lucky4Life', 'Semantic Quotes', 'SerpWow', 'Fast PDF Conversion', 'GenerativeAi Image detection', 'IP Address Tracker - PRO', 'Device Limiter', 'VALUE SERP', 'Scale SERP'], 'rule_2qdt': [\"StreamlineWatch's streaming guide APIs for Movies and Shows\", 'Fast Neural Translation. Text/HTML/JSON. Protected keys. Multiple source texts and target languages in a single request. Free Translation API trial with paid plans as low as $0.3 per million characters. 90+ supported languages. For personalized integration support or private plans with higher quotas, contact [support@lecto.ai](mailto:%73%75%70%70%6f%72%74%40%6c%65%63%74%6f%2e%61%69) or via Telegram @lectoai . Also available via our website with attractive Translation API pricing at https://da...', 'A simple API for Cryptocurrency Prices - 28k+ users - Real-Time & Historical - Crypto Market Data - Coins - Exchanges - Free & Paid', 'Get high quality proxies for free, proxy list with your filters', 'Serpdog(https://serpdog.io) is a Google Search API that allows you to access Google Search Results in real time. It solves the problem of proxies and captchas for a smooth scraping journey. Serpdog supports results in both HTML and JSON format.\\nGet your free trial by registering at https://api.serpdog.io\\nIf you want to buy our plan, I recommend you to please visit https://serpdog.io/pricing for more information.', 'IP Geolocation API allows developers to get geolocation information for a given IP address. Data points returned by this GeoIP API include city, state, province, country, continent, latitude, longitude, region, timezone, current time, organization, ISP, local currency, and country flags. This IP Location API can be used for content personalization, geotargeting, geofencing, ad targeting, digital rights management, form auto-completion, etc. With the free plan, you can make 15,000 IP lookup API calls per month. Paid plans are starting from $15 per month.', 'Real-time currency conversion on 152 currencies and cryptos', \"UGPROXY Service | Proxy List - Residential Proxy - Rotating IP's Proxy Service\", 'Google, Bing and Yahoo realtime SERP API', \"Bishopi's advanced and real-time proprietary SEO metrics for domain names investors, keywords research and SEO professionals. - More on Bishopi.io\", 'Outsida provides a convenient API that show events happening in and around your city. You can now query events, venues, query for particular events or venues by name or id.', 'The most complete and cheap Fake Identity Generation API', 'DataForSEO Search Volume API provides keyword data based on Google AdWords.', 'Search Engine data at scale. Uses city-level geo-targeting via residential proxies for targeted queries. Extract data such as organic results, paid results, related questions, top stories, people also ask, pagination, etc. in JSON format', 'Do you want to get paid for the rest of your life? This is your game! Introducing the latest winning numbers and the best statistics!', 'Do you want to get paid for the rest of your life? This is your game! Introducing the lastest winning numbers and the best statistics!', 'Semantic search for quotes. Wondering which celebrities have said something similar? Look no more, this API gives you the power to search for quotes semantically from over 1M+ quotes. The Artificial Intelligence (NLP) engine behind the scene seeks to understand the meaning of your query rather than simply matching keywords. We allows user to flexibly filter the results by the length of the quote, and/or by a large variety of tags.', 'The SERP API with advanced parsing to reliably capture all search results across all major search engines', 'Fastest Word DOCX to PDF conversion tool (+30 more formats)! Try for free now!', 'Our API identifies artificial or generative AI images, providing accurate detection to combat fake and misleading visuals. Using advanced algorithms, it analyzes and identifies unique patterns to offer an added layer of protection and verification for social media platforms, news organizations, and content creators.', 'This is a paid service that will get you the ip geographical location information of your user. Just simply call the API for a pacific ip address and you will get the following information about your user: country, state, city, zip code, longitude, latitude, and timezone', 'The service keeps track of devices used by the users of your app (mobile or web) and allows you to limit the usage by each user to a small number of devices (default 5). This limitation can help reduce credential sharing on paid services.', 'The most complete, low-cost Google SERP API to power your SEO tools and services', 'The comprehensive SERP API to go deep and capture all the search results Google displays']}\n"
     ]
    }
   ],
   "source": [
    "result=scraper.get_result_similar(api_url,grouped=True)\n",
    "print(result)"
   ]
  },
  {
   "cell_type": "code",
   "execution_count": 17,
   "metadata": {},
   "outputs": [
    {
     "data": {
      "text/plain": [
       "['rule_z34y', 'rule_fses', 'rule_2qdt']"
      ]
     },
     "execution_count": 17,
     "metadata": {},
     "output_type": "execute_result"
    }
   ],
   "source": [
    "l = list(result.keys())\n",
    "l"
   ]
  },
  {
   "cell_type": "code",
   "execution_count": 18,
   "metadata": {
    "id": "qTQuHccjeQ2F"
   },
   "outputs": [],
   "source": [
    "scraper.set_rule_aliases({l[0]:'Images',l[1]:'Title',l[2]:'Description'})\n",
    "scraper.keep_rules(l)\n",
    "scraper.save('api-search')\n"
   ]
  },
  {
   "cell_type": "code",
   "execution_count": 19,
   "metadata": {
    "colab": {
     "base_uri": "https://localhost:8080/"
    },
    "id": "xGDwDWwWe5gP",
    "outputId": "a2110c37-b37d-4211-dd5c-d92da2f7e2e6"
   },
   "outputs": [
    {
     "data": {
      "text/plain": [
       "['StreamlineWatch - Streaming Guide',\n",
       " 'Lecto Translation',\n",
       " 'Coinranking',\n",
       " 'ProxyPage',\n",
       " 'Google Search 2',\n",
       " 'IP Geolocation by ipgeolocation.io',\n",
       " 'CurrencyAPI.net',\n",
       " 'UGPROXY',\n",
       " 'SERPhouse',\n",
       " 'Domain SEO Analysis',\n",
       " 'Outsida',\n",
       " 'Fake Identity Generator',\n",
       " 'DataForSEO Search Volume',\n",
       " 'SERP',\n",
       " 'Cash4Life',\n",
       " 'Lucky4Life',\n",
       " 'Semantic Quotes',\n",
       " 'SerpWow',\n",
       " 'Fast PDF Conversion',\n",
       " 'GenerativeAi Image detection',\n",
       " 'IP Address Tracker - PRO',\n",
       " 'Device Limiter',\n",
       " 'VALUE SERP',\n",
       " 'Scale SERP']"
      ]
     },
     "execution_count": 19,
     "metadata": {},
     "output_type": "execute_result"
    }
   ],
   "source": [
    "result[l[1]]"
   ]
  },
  {
   "cell_type": "code",
   "execution_count": null,
   "metadata": {
    "colab": {
     "base_uri": "https://localhost:8080/"
    },
    "id": "rtUwRBAVg6rx",
    "outputId": "c50da555-6056-4ea3-c238-9ad3df8d5dff"
   },
   "outputs": [
    {
     "data": {
      "text/plain": [
       "dict"
      ]
     },
     "execution_count": 27,
     "metadata": {},
     "output_type": "execute_result"
    }
   ],
   "source": [
    "type(result)"
   ]
  },
  {
   "cell_type": "code",
   "execution_count": 22,
   "metadata": {
    "colab": {
     "base_uri": "https://localhost:8080/"
    },
    "id": "2LIEB9tvhNqk",
    "outputId": "8ca1c2b6-405d-42b1-c221-3d3036a73371"
   },
   "outputs": [
    {
     "data": {
      "text/plain": [
       "{'Images': ['https://rapidapi.com/cdn/images?url=https://rapidapi-prod-apis.s3.amazonaws.com/2f2478f3-366e-4cfc-af2a-160fcd359ce0.png',\n",
       "  'https://rapidapi.com/cdn/images?url=https://rapidapi-prod-apis.s3.amazonaws.com/b6e657b9-2c11-4798-8465-b4c8d7e0de13.png',\n",
       "  'https://rapidapi.com/cdn/images?url=https://rapidapi-prod-apis.s3.amazonaws.com/c3736925-9c98-4fdc-857e-07c11146afb7.png',\n",
       "  'https://rapidapi.com/cdn/images?url=https://rapidapi-prod-apis.s3.amazonaws.com/c1fb79d1-84ab-43d7-9a0a-93bae7d54122.png',\n",
       "  'https://rapidapi.com/cdn/images?url=https://rapidapi-prod-apis.s3.amazonaws.com/17fe17d3-868d-4fdc-9ae7-1523fa2cb1a6.png',\n",
       "  'https://rapidapi.com/cdn/images?url=https://s3.amazonaws.com/mashape-production-logos/apis/5b900012e4b01c1322c68237_medium',\n",
       "  'https://rapidapi.com/cdn/images?url=https://rapidapi-prod-apis.s3.amazonaws.com/c2a75616-6d6c-4a66-826d-0fbbc2762b92.png',\n",
       "  'https://rapidapi.com/cdn/images?url=https://rapidapi-prod-apis.s3.amazonaws.com/bb/e20cc2091d4963bb075d1dd957d65d/cbd156018162314e428642bcf4d0fd8a.png',\n",
       "  'https://rapidapi.com/cdn/images?url=https://rapidapi-prod-apis.s3.amazonaws.com/58ee5bd0-e893-4539-a764-8fd432e29e0e.png',\n",
       "  'https://rapidapi.com/cdn/images?url=https://rapidapi-prod-apis.s3.amazonaws.com/ee76191e-e579-4564-89ee-0a1bbf1c0671.png',\n",
       "  'https://rapidapi.com/cdn/images?url=https://rapidapi-prod-apis.s3.amazonaws.com/53afacea-db08-418d-8ce1-28606c8bd5c4.png',\n",
       "  'https://rapidapi.com/cdn/images?url=https://rapidapi-prod-apis.s3.amazonaws.com/bf1840cc-eff8-41c8-94c1-e787ecaaa19a.jpg',\n",
       "  'https://rapidapi.com/cdn/images?url=https://rapidapi-prod-apis.s3.amazonaws.com/a871a4ec-83a7-4b61-a853-60b18cca171b.jpg',\n",
       "  'https://rapidapi.com/cdn/images?url=https://rapidapi-prod-apis.s3.amazonaws.com/c9605c1d-2a8e-447f-b402-223b021be0ce.png',\n",
       "  'https://rapidapi.com/cdn/images?url=https://rapidapi-prod-apis.s3.amazonaws.com/86efcf31-d9ed-4e3c-80f4-2449eb032c72.png',\n",
       "  'https://rapidapi.com/cdn/images?url=https://rapidapi-prod-apis.s3.amazonaws.com/1e723a10-7569-4615-b598-5207a758ed67.png',\n",
       "  'https://rapidapi.com/cdn/images?url=https://rapidapi-prod-apis.s3.amazonaws.com/4c6fcdeb-22c1-4b40-8cb9-d60c1056d527.png',\n",
       "  'https://rapidapi.com/cdn/images?url=https://rapidapi-prod-apis.s3.amazonaws.com/68b19516-331d-4db3-93c5-34f69b2b5538.png',\n",
       "  'https://rapidapi.com/cdn/images?url=https://rapidapi-prod-apis.s3.amazonaws.com/00bc3506-a014-48a0-be30-6665c7461fbc.png',\n",
       "  'https://rapidapi.com/cdn/images?url=https://rapidapi-prod-apis.s3.amazonaws.com/355a5650-06d2-44b5-ac7f-836360bde033.png',\n",
       "  'https://rapidapi.com/cdn/images?url=https://rapidapi-prod-apis.s3.amazonaws.com/37/c91865a38a44f793c265af618340a0/731f34b730f0ced443598bb6446d12e3.png',\n",
       "  'https://rapidapi.com/cdn/images?url=https://rapidapi-prod-apis.s3.amazonaws.com/976c663f-f16b-40ec-8611-e4a990a1d247.png',\n",
       "  'https://rapidapi.com/cdn/images?url=https://rapidapi-prod-apis.s3.amazonaws.com/6c60e51e-d25f-4fa4-93e9-017f781b3bfd.png',\n",
       "  'https://rapidapi.com/cdn/images?url=https://rapidapi-prod-apis.s3.amazonaws.com/16632105-d3f2-4882-bfbe-1907b3b4a736.png'],\n",
       " 'Title': ['StreamlineWatch - Streaming Guide',\n",
       "  'Lecto Translation',\n",
       "  'Coinranking',\n",
       "  'ProxyPage',\n",
       "  'Google Search 2',\n",
       "  'IP Geolocation by ipgeolocation.io',\n",
       "  'CurrencyAPI.net',\n",
       "  'UGPROXY',\n",
       "  'SERPhouse',\n",
       "  'Domain SEO Analysis',\n",
       "  'Outsida',\n",
       "  'Fake Identity Generator',\n",
       "  'DataForSEO Search Volume',\n",
       "  'SERP',\n",
       "  'Cash4Life',\n",
       "  'Lucky4Life',\n",
       "  'Semantic Quotes',\n",
       "  'SerpWow',\n",
       "  'Fast PDF Conversion',\n",
       "  'GenerativeAi Image detection',\n",
       "  'IP Address Tracker - PRO',\n",
       "  'Device Limiter',\n",
       "  'VALUE SERP',\n",
       "  'Scale SERP'],\n",
       " 'Description': [\"StreamlineWatch's streaming guide APIs for Movies and Shows\",\n",
       "  'Fast Neural Translation. Text/HTML/JSON. Protected keys. Multiple source texts and target languages in a single request. Free Translation API trial with paid plans as low as $0.3 per million characters. 90+ supported languages. For personalized integration support or private plans with higher quotas, contact [support@lecto.ai](mailto:%73%75%70%70%6f%72%74%40%6c%65%63%74%6f%2e%61%69) or via Telegram @lectoai . Also available via our website with attractive Translation API pricing at https://da...',\n",
       "  'A simple API for Cryptocurrency Prices - 28k+ users - Real-Time & Historical - Crypto Market Data - Coins - Exchanges - Free & Paid',\n",
       "  'Get high quality proxies for free, proxy list with your filters',\n",
       "  'Serpdog(https://serpdog.io) is a Google Search API that allows you to access Google Search Results in real time. It solves the problem of proxies and captchas for a smooth scraping journey. Serpdog supports results in both HTML and JSON format.\\nGet your free trial by registering at https://api.serpdog.io\\nIf you want to buy our plan, I recommend you to please visit https://serpdog.io/pricing for more information.',\n",
       "  'IP Geolocation API allows developers to get geolocation information for a given IP address. Data points returned by this GeoIP API include city, state, province, country, continent, latitude, longitude, region, timezone, current time, organization, ISP, local currency, and country flags. This IP Location API can be used for content personalization, geotargeting, geofencing, ad targeting, digital rights management, form auto-completion, etc. With the free plan, you can make 15,000 IP lookup API calls per month. Paid plans are starting from $15 per month.',\n",
       "  'Real-time currency conversion on 152 currencies and cryptos',\n",
       "  \"UGPROXY Service | Proxy List - Residential Proxy - Rotating IP's Proxy Service\",\n",
       "  'Google, Bing and Yahoo realtime SERP API',\n",
       "  \"Bishopi's advanced and real-time proprietary SEO metrics for domain names investors, keywords research and SEO professionals. - More on Bishopi.io\",\n",
       "  'Outsida provides a convenient API that show events happening in and around your city. You can now query events, venues, query for particular events or venues by name or id.',\n",
       "  'The most complete and cheap Fake Identity Generation API',\n",
       "  'DataForSEO Search Volume API provides keyword data based on Google AdWords.',\n",
       "  'Search Engine data at scale. Uses city-level geo-targeting via residential proxies for targeted queries. Extract data such as organic results, paid results, related questions, top stories, people also ask, pagination, etc. in JSON format',\n",
       "  'Do you want to get paid for the rest of your life? This is your game! Introducing the latest winning numbers and the best statistics!',\n",
       "  'Do you want to get paid for the rest of your life? This is your game! Introducing the lastest winning numbers and the best statistics!',\n",
       "  'Semantic search for quotes. Wondering which celebrities have said something similar? Look no more, this API gives you the power to search for quotes semantically from over 1M+ quotes. The Artificial Intelligence (NLP) engine behind the scene seeks to understand the meaning of your query rather than simply matching keywords. We allows user to flexibly filter the results by the length of the quote, and/or by a large variety of tags.',\n",
       "  'The SERP API with advanced parsing to reliably capture all search results across all major search engines',\n",
       "  'Fastest Word DOCX to PDF conversion tool (+30 more formats)! Try for free now!',\n",
       "  'Our API identifies artificial or generative AI images, providing accurate detection to combat fake and misleading visuals. Using advanced algorithms, it analyzes and identifies unique patterns to offer an added layer of protection and verification for social media platforms, news organizations, and content creators.',\n",
       "  'This is a paid service that will get you the ip geographical location information of your user. Just simply call the API for a pacific ip address and you will get the following information about your user: country, state, city, zip code, longitude, latitude, and timezone',\n",
       "  'The service keeps track of devices used by the users of your app (mobile or web) and allows you to limit the usage by each user to a small number of devices (default 5). This limitation can help reduce credential sharing on paid services.',\n",
       "  'The most complete, low-cost Google SERP API to power your SEO tools and services',\n",
       "  'The comprehensive SERP API to go deep and capture all the search results Google displays']}"
      ]
     },
     "execution_count": 22,
     "metadata": {},
     "output_type": "execute_result"
    }
   ],
   "source": [
    "m = ['Images','Title','Description']\n",
    "n = list(result.keys())\n",
    "d = {} \n",
    "for i in range(len(n)): \n",
    "    d[m[i]] = result[n[i]] \n",
    "d"
   ]
  },
  {
   "cell_type": "code",
   "execution_count": 23,
   "metadata": {
    "id": "aV9qtLArhpPa"
   },
   "outputs": [],
   "source": [
    "import pandas as pd\n",
    "df = pd.DataFrame(d)\n",
    "df.to_csv('my_file.csv', index=False, header=True)"
   ]
  },
  {
   "cell_type": "code",
   "execution_count": 24,
   "metadata": {},
   "outputs": [
    {
     "data": {
      "text/html": [
       "<div>\n",
       "<style scoped>\n",
       "    .dataframe tbody tr th:only-of-type {\n",
       "        vertical-align: middle;\n",
       "    }\n",
       "\n",
       "    .dataframe tbody tr th {\n",
       "        vertical-align: top;\n",
       "    }\n",
       "\n",
       "    .dataframe thead th {\n",
       "        text-align: right;\n",
       "    }\n",
       "</style>\n",
       "<table border=\"1\" class=\"dataframe\">\n",
       "  <thead>\n",
       "    <tr style=\"text-align: right;\">\n",
       "      <th></th>\n",
       "      <th>Images</th>\n",
       "      <th>Title</th>\n",
       "      <th>Description</th>\n",
       "    </tr>\n",
       "  </thead>\n",
       "  <tbody>\n",
       "    <tr>\n",
       "      <th>0</th>\n",
       "      <td>https://rapidapi.com/cdn/images?url=https://ra...</td>\n",
       "      <td>StreamlineWatch - Streaming Guide</td>\n",
       "      <td>StreamlineWatch's streaming guide APIs for Mov...</td>\n",
       "    </tr>\n",
       "    <tr>\n",
       "      <th>1</th>\n",
       "      <td>https://rapidapi.com/cdn/images?url=https://ra...</td>\n",
       "      <td>Lecto Translation</td>\n",
       "      <td>Fast Neural Translation. Text/HTML/JSON. Prote...</td>\n",
       "    </tr>\n",
       "    <tr>\n",
       "      <th>2</th>\n",
       "      <td>https://rapidapi.com/cdn/images?url=https://ra...</td>\n",
       "      <td>Coinranking</td>\n",
       "      <td>A simple API for Cryptocurrency Prices - 28k+ ...</td>\n",
       "    </tr>\n",
       "    <tr>\n",
       "      <th>3</th>\n",
       "      <td>https://rapidapi.com/cdn/images?url=https://ra...</td>\n",
       "      <td>ProxyPage</td>\n",
       "      <td>Get high quality proxies for free, proxy list ...</td>\n",
       "    </tr>\n",
       "    <tr>\n",
       "      <th>4</th>\n",
       "      <td>https://rapidapi.com/cdn/images?url=https://ra...</td>\n",
       "      <td>Google Search 2</td>\n",
       "      <td>Serpdog(https://serpdog.io) is a Google Search...</td>\n",
       "    </tr>\n",
       "  </tbody>\n",
       "</table>\n",
       "</div>"
      ],
      "text/plain": [
       "                                              Images  \\\n",
       "0  https://rapidapi.com/cdn/images?url=https://ra...   \n",
       "1  https://rapidapi.com/cdn/images?url=https://ra...   \n",
       "2  https://rapidapi.com/cdn/images?url=https://ra...   \n",
       "3  https://rapidapi.com/cdn/images?url=https://ra...   \n",
       "4  https://rapidapi.com/cdn/images?url=https://ra...   \n",
       "\n",
       "                               Title  \\\n",
       "0  StreamlineWatch - Streaming Guide   \n",
       "1                  Lecto Translation   \n",
       "2                        Coinranking   \n",
       "3                          ProxyPage   \n",
       "4                    Google Search 2   \n",
       "\n",
       "                                         Description  \n",
       "0  StreamlineWatch's streaming guide APIs for Mov...  \n",
       "1  Fast Neural Translation. Text/HTML/JSON. Prote...  \n",
       "2  A simple API for Cryptocurrency Prices - 28k+ ...  \n",
       "3  Get high quality proxies for free, proxy list ...  \n",
       "4  Serpdog(https://serpdog.io) is a Google Search...  "
      ]
     },
     "execution_count": 24,
     "metadata": {},
     "output_type": "execute_result"
    }
   ],
   "source": [
    "df.head()"
   ]
  },
  {
   "cell_type": "code",
   "execution_count": 50,
   "metadata": {},
   "outputs": [],
   "source": [
    "df['corpus'] = df.apply(lambda row : row['Title'] + \" \" + row['Description'], axis = 1)"
   ]
  },
  {
   "cell_type": "code",
   "execution_count": 69,
   "metadata": {},
   "outputs": [
    {
     "name": "stdout",
     "output_type": "stream",
     "text": [
      "Lecto Translation => 0.9999999999999997\n",
      "SERP => 0.11061624633854515\n",
      "Google Search 2 => 0.10011833369414831\n",
      "ProxyPage => 0.07675038648700097\n",
      "IP Geolocation by ipgeolocation.io => 0.07370983294077998\n",
      "Outsida => 0.05190966730834803\n",
      "SerpWow => 0.05184135210704195\n",
      "GenerativeAi Image detection => 0.051519358728340583\n",
      "VALUE SERP => 0.03781495479923671\n",
      "Coinranking => 0.034133752600294366\n",
      "Fast PDF Conversion => 0.03235894515072944\n",
      "Device Limiter => 0.022589569932780357\n",
      "SERPhouse => 0.021687709511709927\n",
      "Semantic Quotes => 0.01935814597574595\n",
      "IP Address Tracker - PRO => 0.016864580821265157\n",
      "Cash4Life => 0.015619938094030526\n",
      "Lucky4Life => 0.015619938094030526\n",
      "Scale SERP => 0.014919209841282472\n",
      "Fake Identity Generator => 0.014219789780149377\n",
      "DataForSEO Search Volume => 0.009213034768002337\n",
      "Domain SEO Analysis => 0.008515575191851046\n",
      "StreamlineWatch - Streaming Guide => 0.00775476889368483\n",
      "CurrencyAPI.net => 0.004826301838589141\n",
      "UGPROXY => 0.0\n"
     ]
    }
   ],
   "source": [
    "def recommendation_based_on_api_name(df,api_name,api_description):\n",
    "    tfidf = TfidfVectorizer()\n",
    "    X = df['corpus']\n",
    "    tfidf.fit(X)\n",
    "    api_name_vector = tfidf.transform([api_name + \" \" + api_description])\n",
    "    rank = {} \n",
    "    for i in range(len(df)):\n",
    "        vec = tfidf.transform([df.iloc[i]['Title'] + \" \" + df.iloc[i]['Description']])\n",
    "        rank[df.iloc[i]['Title']] = cosine_similarity(vec,api_name_vector)[0][0]\n",
    "    rank = sorted(rank.items(), key = lambda x : x[1], reverse = True)\n",
    "    for i in rank:\n",
    "        print(i[0],\"=>\",i[1])\n",
    "\n",
    "recommendation_based_on_api_name(df,\"Lecto Translation\",\"Fast Neural Translation. Text/HTML/JSON. Protected keys. Multiple source texts and target languages in a single request. Free Translation API trial with paid plans as low as $0.3 per million characters. 90+ supported languages. For personalized integration support or private plans with higher quotas, contact [support@lecto.ai](mailto:%73%75%70%70%6f%72%74%40%6c%65%63%74%6f%2e%61%69) or via Telegram @lectoai . Also available via our website with attractive Translation API pricing at https://da...\") "
   ]
  }
 ],
 "metadata": {
  "colab": {
   "provenance": []
  },
  "kernelspec": {
   "display_name": "Python 3 (ipykernel)",
   "language": "python",
   "name": "python3"
  },
  "language_info": {
   "codemirror_mode": {
    "name": "ipython",
    "version": 3
   },
   "file_extension": ".py",
   "mimetype": "text/x-python",
   "name": "python",
   "nbconvert_exporter": "python",
   "pygments_lexer": "ipython3",
   "version": "3.9.7"
  },
  "vscode": {
   "interpreter": {
    "hash": "b91f41160b83ffc59c7e17fa6fd02d637d5dcf1d5e59aa2db87d82178661b954"
   }
  }
 },
 "nbformat": 4,
 "nbformat_minor": 1
}
